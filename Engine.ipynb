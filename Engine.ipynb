{
 "cells": [
  {
   "cell_type": "code",
   "execution_count": 1,
   "metadata": {},
   "outputs": [],
   "source": [
    "import pandas as pd\n",
    "from sklearn.feature_extraction.text import TfidfVectorizer\n",
    "from sklearn.metrics.pairwise import cosine_similarity"
   ]
  },
  {
   "cell_type": "code",
   "execution_count": 2,
   "metadata": {},
   "outputs": [],
   "source": [
    "import os\n",
    "\n",
    "# Get a list of all CSV files in the current directory\n",
    "csv_files = [file for file in os.listdir('.') if file.endswith('.csv')]\n",
    "\n",
    "# Read each CSV file and append them together\n",
    "df_list = []\n",
    "for file in csv_files:\n",
    "    df_list.append(pd.read_csv(file))\n",
    "\n",
    "df = pd.concat(df_list, ignore_index=True)"
   ]
  },
  {
   "cell_type": "code",
   "execution_count": 3,
   "metadata": {},
   "outputs": [],
   "source": [
    "df.drop(\"Unnamed: 0\", axis = 1, inplace = True)"
   ]
  },
  {
   "cell_type": "code",
   "execution_count": 4,
   "metadata": {},
   "outputs": [
    {
     "data": {
      "text/plain": [
       "Index(['product', 'category', 'subcategory', 'link', 'image', 'asin', 'brand',\n",
       "       'rating', 'qty_rating', 'description', 'extend_description'],\n",
       "      dtype='object')"
      ]
     },
     "execution_count": 4,
     "metadata": {},
     "output_type": "execute_result"
    }
   ],
   "source": [
    "df.columns"
   ]
  },
  {
   "cell_type": "code",
   "execution_count": 5,
   "metadata": {},
   "outputs": [
    {
     "data": {
      "text/html": [
       "<div>\n",
       "<style scoped>\n",
       "    .dataframe tbody tr th:only-of-type {\n",
       "        vertical-align: middle;\n",
       "    }\n",
       "\n",
       "    .dataframe tbody tr th {\n",
       "        vertical-align: top;\n",
       "    }\n",
       "\n",
       "    .dataframe thead th {\n",
       "        text-align: right;\n",
       "    }\n",
       "</style>\n",
       "<table border=\"1\" class=\"dataframe\">\n",
       "  <thead>\n",
       "    <tr style=\"text-align: right;\">\n",
       "      <th></th>\n",
       "      <th>product</th>\n",
       "      <th>category</th>\n",
       "      <th>subcategory</th>\n",
       "      <th>link</th>\n",
       "      <th>image</th>\n",
       "      <th>asin</th>\n",
       "      <th>brand</th>\n",
       "      <th>rating</th>\n",
       "      <th>qty_rating</th>\n",
       "      <th>description</th>\n",
       "      <th>extend_description</th>\n",
       "    </tr>\n",
       "  </thead>\n",
       "  <tbody>\n",
       "    <tr>\n",
       "      <th>0</th>\n",
       "      <td>Keika Charcoal Black Soap Bar for Acne, Eczema...</td>\n",
       "      <td>Cleansers</td>\n",
       "      <td>Bars</td>\n",
       "      <td>https://www.amazon.com/gp/slredirect/picassoRe...</td>\n",
       "      <td>https://m.media-amazon.com/images/I/81PGL0+oLZ...</td>\n",
       "      <td>B07CK9L2J5</td>\n",
       "      <td>NaN</td>\n",
       "      <td>NaN</td>\n",
       "      <td>NaN</td>\n",
       "      <td>NaN</td>\n",
       "      <td>NaN</td>\n",
       "    </tr>\n",
       "    <tr>\n",
       "      <th>1</th>\n",
       "      <td>Urban Skin Rx Clear Skin Cleansing Bar | 3-in-...</td>\n",
       "      <td>Cleansers</td>\n",
       "      <td>Bars</td>\n",
       "      <td>https://www.amazon.com/gp/slredirect/picassoRe...</td>\n",
       "      <td>https://m.media-amazon.com/images/I/71TIhVEebN...</td>\n",
       "      <td>B07N7N7VQY</td>\n",
       "      <td>NaN</td>\n",
       "      <td>NaN</td>\n",
       "      <td>NaN</td>\n",
       "      <td>NaN</td>\n",
       "      <td>NaN</td>\n",
       "    </tr>\n",
       "  </tbody>\n",
       "</table>\n",
       "</div>"
      ],
      "text/plain": [
       "                                             product   category subcategory  \\\n",
       "0  Keika Charcoal Black Soap Bar for Acne, Eczema...  Cleansers        Bars   \n",
       "1  Urban Skin Rx Clear Skin Cleansing Bar | 3-in-...  Cleansers        Bars   \n",
       "\n",
       "                                                link  \\\n",
       "0  https://www.amazon.com/gp/slredirect/picassoRe...   \n",
       "1  https://www.amazon.com/gp/slredirect/picassoRe...   \n",
       "\n",
       "                                               image        asin brand  \\\n",
       "0  https://m.media-amazon.com/images/I/81PGL0+oLZ...  B07CK9L2J5   NaN   \n",
       "1  https://m.media-amazon.com/images/I/71TIhVEebN...  B07N7N7VQY   NaN   \n",
       "\n",
       "   rating  qty_rating description extend_description  \n",
       "0     NaN         NaN         NaN                NaN  \n",
       "1     NaN         NaN         NaN                NaN  "
      ]
     },
     "execution_count": 5,
     "metadata": {},
     "output_type": "execute_result"
    }
   ],
   "source": [
    "df.head(2)"
   ]
  },
  {
   "cell_type": "code",
   "execution_count": 6,
   "metadata": {},
   "outputs": [
    {
     "data": {
      "text/plain": [
       "'Keika Charcoal Black Soap Bar for Acne, Eczema, Psoriasis, Face, Body, Men Women Teens with Oily Skin, 5 oz.'"
      ]
     },
     "execution_count": 6,
     "metadata": {},
     "output_type": "execute_result"
    }
   ],
   "source": [
    "df['product'].to_list()[0]"
   ]
  },
  {
   "cell_type": "code",
   "execution_count": 7,
   "metadata": {},
   "outputs": [
    {
     "data": {
      "text/plain": [
       "Index(['product', 'category', 'subcategory', 'link', 'image', 'asin', 'brand',\n",
       "       'rating', 'qty_rating', 'description', 'extend_description'],\n",
       "      dtype='object')"
      ]
     },
     "execution_count": 7,
     "metadata": {},
     "output_type": "execute_result"
    }
   ],
   "source": [
    "df.columns"
   ]
  },
  {
   "cell_type": "code",
   "execution_count": 15,
   "metadata": {},
   "outputs": [
    {
     "data": {
      "text/plain": [
       "(86152,)"
      ]
     },
     "execution_count": 15,
     "metadata": {},
     "output_type": "execute_result"
    }
   ],
   "source": [
    "data['category'].dropna().shape"
   ]
  },
  {
   "cell_type": "code",
   "execution_count": 23,
   "metadata": {},
   "outputs": [
    {
     "name": "stdout",
     "output_type": "stream",
     "text": [
      "CETAPHIL Gentle Cleansing Bar, 4.5 oz Bar (Pack of 6), Nourishing Cleansing Bar For Dry, Sensitive Skin, Non-Comedogenic, (Packaging May Vary)\n",
      "\n",
      "\n",
      "Baxter of California Vitamin Cleansing Bar for Men | Citrus and Herbal Musk Essence | All Skin Types | 7 Oz | Holiday Gift Guide\n",
      "\n",
      "\n",
      "Urban Skin Rx Clear Skin Cleansing Bar | 3-in-1 Daily Cleanser, Exfoliator and Mask Removes Excess Oil and Improves Blemishes, Formulated with Salicylic Acid, Eucalyptus and Sulfur | 3.7 Oz\n",
      "\n",
      "\n",
      "Keika Charcoal Black Soap Bar for Acne, Eczema, Psoriasis, Face, Body, Men Women Teens with Oily Skin, 5 oz.\n",
      "\n",
      "\n"
     ]
    }
   ],
   "source": [
    "# Load the data into a pandas DataFrame\n",
    "data = df\n",
    "\n",
    "# Define the feature columns to use for recommendations\n",
    "feature_cols = ['category', 'subcategory', 'brand', 'description', 'extend_description']\n",
    "\n",
    "# Create a TfidfVectorizer to transform the text data into numerical features\n",
    "vectorizer = TfidfVectorizer(stop_words='english')\n",
    "feature_matrix = vectorizer.fit_transform(data[feature_cols].fillna(''))\n",
    "# feature_matrix = vectorizer.fit_transform(data['category'].dropna())\n",
    "\n",
    "# Calculate the pairwise cosine similarity between all items\n",
    "similarity_matrix = cosine_similarity(feature_matrix)\n",
    "\n",
    "# Helper function to get top N recommended products for a given product\n",
    "def get_recommendations(product_name, top_n=5):\n",
    "    # Get the index of the given product in the DataFrame\n",
    "    idx = data[data['product'] == product_name].index[0]\n",
    "    \n",
    "    # Get the pairwise cosine similarities between the given product and all other products\n",
    "    similarities = similarity_matrix[idx]\n",
    "    \n",
    "    # Get the indices of the top N most similar products\n",
    "    top_indices = similarities.argsort()[::-1][1:top_n+1]\n",
    "    \n",
    "    # Return the names of the top N most similar products\n",
    "    for item in data.iloc[top_indices]['product'].tolist():\n",
    "        print(item)\n",
    "        print(\"\\n\")\n",
    "\n",
    "\n",
    "\n",
    "prod_name = 'Cetaphil Bar Soap, Deep Cleansing Face and Body Bar, Pack of 3, For Dry to Normal, Sensitive Skin, Soap Free, Hypoallergenic, Paraben Free, Fragrance Free, Removes Makeup, Dirt and Oil'\n",
    "get_recommendations(prod_name, top_n = 10)\n"
   ]
  },
  {
   "cell_type": "code",
   "execution_count": 2,
   "metadata": {},
   "outputs": [],
   "source": [
    "# import pandas as pd\n",
    "# from surprise import Dataset, Reader, SVD\n",
    "# from surprise.model_selection import train_test_split\n",
    "\n",
    "# # Load the data into a pandas DataFrame\n",
    "# data = df\n",
    "\n",
    "# # Define the reader for Surprise library\n",
    "# reader = Reader(rating_scale=(1, 5))\n",
    "\n",
    "# # Load the data into a Surprise Dataset\n",
    "# dataset = Dataset.load_from_df(data[['product', 'qty_rating', 'rating']], reader)\n",
    "\n",
    "# # Split the data into train and test sets\n",
    "# trainset, testset = train_test_split(dataset, test_size=0.2)\n",
    "\n",
    "# # Define the SVD algorithm for collaborative filtering\n",
    "# algo = SVD()\n",
    "\n",
    "# # Train the algorithm on the trainset\n",
    "# algo.fit(trainset)\n",
    "\n",
    "# # Predict the ratings for the testset\n",
    "# predictions = algo.test(testset)\n",
    "\n",
    "# # Helper function to get top N recommended products for a given user\n",
    "# def get_recommendations(user_id, top_n=5):\n",
    "#     # Get the ratings for the given user from the DataFrame\n",
    "#     user_ratings = data[data['asin'] == user_id][['product', 'rating']]\n",
    "    \n",
    "#     # Convert the DataFrame to a Surprise Dataset\n",
    "#     user_dataset = Dataset.load_from_df(user_ratings, reader)\n",
    "    \n",
    "#     # Train the algorithm on the full dataset\n",
    "#     full_trainset = dataset.build_full_trainset()\n",
    "#     algo.fit(full_trainset)\n",
    "    \n",
    "#     # Predict the ratings for the user\n",
    "#     user_predictions = algo.test(user_dataset.build_full_trainset().build_testset())\n",
    "    \n",
    "#     # Sort the predicted ratings in descending order and get the top N recommendations\n",
    "#     top_predictions = sorted(user_predictions, key=lambda x: x.est, reverse=True)[:top_n]\n",
    "    \n",
    "#     # Return the names of the top N recommended products\n",
    "#     return [pred.iid for pred in top_predictions]\n",
    "\n",
    "# # Example usage\n",
    "# get_recommendations('UserID', top_n=10)\n"
   ]
  },
  {
   "cell_type": "code",
   "execution_count": null,
   "metadata": {},
   "outputs": [],
   "source": []
  }
 ],
 "metadata": {
  "kernelspec": {
   "display_name": "Python 3",
   "language": "python",
   "name": "python3"
  },
  "language_info": {
   "codemirror_mode": {
    "name": "ipython",
    "version": 3
   },
   "file_extension": ".py",
   "mimetype": "text/x-python",
   "name": "python",
   "nbconvert_exporter": "python",
   "pygments_lexer": "ipython3",
   "version": "3.9.13"
  },
  "orig_nbformat": 4,
  "vscode": {
   "interpreter": {
    "hash": "bd0f44fee405d34ddf309a1e756e3b06e5f59bc1bf845ac436d3e0f257cb1b3c"
   }
  }
 },
 "nbformat": 4,
 "nbformat_minor": 2
}
